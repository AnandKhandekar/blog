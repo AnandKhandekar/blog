{
  "nbformat": 4,
  "nbformat_minor": 0,
  "metadata": {
    "colab": {
      "name": "Generative art in p5.js-Part 1.ipynb",
      "provenance": []
    },
    "kernelspec": {
      "name": "python3",
      "display_name": "Python 3"
    },
    "language_info": {
      "name": "python"
    }
  },
  "cells": [
    {
      "cell_type": "markdown",
      "metadata": {
        "id": "lhGS7oX8XfSa"
      },
      "source": [
        "#  Generative Art usinf p5.js - Part 1( static )\n",
        ">  This is part#1 of a two series post that I am writing in order to explain the usage of [p5.js](https://p5js.org/) on the web browser to implement animations. The librabry needs no installation and one can get on with actual trials immediately. \n",
        "\n",
        "- toc: true \n",
        "- badges: true\n",
        "- comments: true\n",
        "- categories: ['jupyter','generative art','javascript','p5.js','matrix']\n",
        "- author : Anand Khandekar\n",
        "- image: images/p5js1.JPG"
      ]
    },
    {
      "cell_type": "markdown",
      "metadata": {
        "id": "nZGPtE8zm-d-"
      },
      "source": [
        "# What is the p5.js library ?\n",
        "\n",
        "> p5.js is a JavaScript library for creative coding, with a focus on making coding accessible and inclusive for artists, designers, educators, beginners, and anyone else! p5.js is free and open-source because we believe software, and the tools to learn it, should be accessible to everyone.\n",
        "\n",
        "\n",
        "##  Your first SKETCH\n",
        "\n",
        "In the [p5.js web editor](https://editor.p5js.org/) you will find this pre filled Template\n",
        "\n",
        "``` \n",
        "function setup() {\n",
        "    createCanvas ( 400 , 400 );\n",
        "}\n",
        "\n",
        "function draw (  ) { \n",
        "    background(220);\n",
        "}\n",
        "```\n",
        "The setup is a function which gets invoked ONCE at the start and the second function \n",
        "draw ( ) gets called reatedly ( in a loop ) at 60 frames per second.\n",
        "\n",
        "For more details on the p5.js you may refer to [getting started](https://p5js.org/get-started/) in their documentation.  Refer [this](https://p5js.org/learn/) for detialed tutorials \n",
        "\n",
        "\n"
      ]
    },
    {
      "cell_type": "markdown",
      "metadata": {
        "id": "ZWgsSfzcpg9r"
      },
      "source": [
        "# Getting started\n",
        "\n",
        "## Problem Statement \n",
        "* Stage- I : Create a sketch which displays the KATAKANI symbol in the centre of the screen. The symbol ( letter) starts from the top and falls down at variable speed.\n",
        "* Stage- II :  Add randomness to the code such that as the symbol falls feom the top, y= 0 to the bottom y = height ( Frame height) it should also change to other symbols randomly. Note that there are a total of 96 symbols in the KATAKANI UTF-8 set."
      ]
    },
    {
      "cell_type": "markdown",
      "metadata": {
        "id": "OD5NmiqbpkIl"
      },
      "source": [
        "# Green Rain - full CODE\n",
        "\n",
        "```\n",
        "1 var symbol;\n",
        "2\n",
        "3 function setup() {\n",
        "4  createCanvas(window.innerWidth, window.innerHeight);\n",
        "5  background(0);\n",
        "6  symbol = new Symbole(width/2,0,random(5,10));\n",
        "7  symbol.setToRandomSymbol();   \n",
        "8 }\n",
        "9\n",
        "10  function draw() {\n",
        "11    background(0)  ;\n",
        "12    fill(255);\n",
        "13    textSize(46);\n",
        "14   text(\"All the fun is happening here.\", 200, 100);\n",
        "15   symbol.render() ;\n",
        "16   }\n",
        "17\n",
        "18  class  Symbole { \n",
        "19        constructor(x,y,speed)  {\n",
        "20         this.x = x;\n",
        "21         this.y = y;\n",
        "22  \n",
        "23         this.speed = speed;\n",
        "24         this.switchInterval = round(random(2,20));\n",
        "25  \n",
        "26        this.setToRandomSymbol = function()  {\n",
        "27          if ( frameCount % this.switchInterval == 0){\n",
        "28          this.value = String.fromCharCode((0x30A0)+  round(random(0,96)))\n",
        "29\n",
        "30                                }    \n",
        "31       } ;\n",
        "32  \n",
        "33        this.render = function()  {\n",
        "34            fill(0,255,70);\n",
        "35            text(this.value,this.x,this.y);\n",
        "36            this.rain() ;\n",
        "37            this.setToRandomSymbol();\n",
        "38         };\n",
        "39    \n",
        "40      this.rain = function()  {\n",
        "41              if(this.y >= height){\n",
        "42                      this.y=0;\n",
        "43                    } \n",
        "44            else {\n",
        "45                 this.y = this.y + this.speed;\n",
        "46                   }          \n",
        "47          }   \n",
        "48       }\n",
        "49    }\n",
        "```"
      ]
    },
    {
      "cell_type": "markdown",
      "metadata": {
        "id": "JO3e7I__prdx"
      },
      "source": [
        "# The LOGIC behind the CODE\n",
        "\n",
        "` var symbol ;`  is a global variable declared which can be acessed by any function or method.\n",
        "\n",
        "#### SETUP( ) \n",
        "\n",
        "`3 function setup() {`\n",
        "\n",
        "`4  createCanvas(window.innerWidth, window.innerHeight);`\n",
        "\n",
        "`5  background(0);`\n",
        "\n",
        "`6  symbol = new Symbole(width/2,0,random(5,10));`\n",
        "\n",
        "`7  symbol.setToRandomSymbol();   `\n",
        "\n",
        "`8 }`\n",
        "\n",
        "Lines 3-8 is where the one time `setup()` function is defined. `createCanvas()` as the name says does so. We also need to take care that the animation encompasses entire of the device. To make the extents device agnoistic P5.js has inbuilt keywords `window.innerWidth` and `window.innerHeight`. Line 5 assigns a black colour to the enotre background. \n",
        "\n",
        "`symbol` on Line 6 is an instance of the class `Symbole` which is created and the relevant paramenters `x`, `y` and a random value for `speed` are passed.\n",
        "\n",
        "Line 7 calls the `setToRandomSymbol()` method for the object `symbol`\n",
        "\n"
      ]
    },
    {
      "cell_type": "markdown",
      "metadata": {
        "id": "WbteEGxSohBh"
      },
      "source": [
        "#### DRAW ( )\n",
        "`10  function draw() {`\n",
        "\n",
        "`11    background(0)  ;`\n",
        "\n",
        "`12    fill(255);`\n",
        "\n",
        "`13    textSize(46);`\n",
        "\n",
        "`14   text(\"All the fun is happening here.\", 200, 100);`\n",
        "\n",
        "`15   symbol.render() ;`\n",
        "\n",
        "`16   }`\n",
        "\n",
        "\n",
        "Line 10 intitiaates the core `draw()` function which runs in a loop at 60 fps and is responsible for displaying the animation on the screen.\n",
        "\n",
        "All line are self explanatory. Line 15 is where the magic happens when the `symbol` object invokes `render()` method.\n",
        "\n",
        "It is in the render method that all the action is defined."
      ]
    },
    {
      "cell_type": "markdown",
      "metadata": {
        "id": "-a1SfBqvrMBc"
      },
      "source": [
        " #### OBJECT ORIENTED CLASS defintion\n",
        "\n",
        "` class  Symbole { `\n",
        "\n",
        "`19        constructor(x,y,speed)  {`\n",
        "\n",
        "`20         this.x = x;`\n",
        "\n",
        "`21         this.y = y;`\n",
        "\n",
        "`22  `\n",
        "\n",
        "`23         this.speed = speed;`\n",
        "\n",
        "`24         this.switchInterval = round(random(2,20));`\n",
        "\n",
        "`25  `\n",
        "\n",
        "`26        this.setToRandomSymbol = function()  {`\n",
        "\n",
        "`27          if ( frameCount % this.switchInterval == 0){`\n",
        "\n",
        "`28          this.value = String.fromCharCode((0x30A0)+  round(random(0,96)))`\n",
        "\n",
        "`29`\n",
        "\n",
        "`30                                }    `\n",
        "\n",
        "`31       } ;`\n",
        "\n",
        "\n",
        "the class `Symbole` needs to be defined with the first letter in upper case. It consists of the following attributes :\n",
        "* constructor - where the common variable, local and global are defined\n",
        "* function `setToRandomSymbol( )` function which assigns the `value` to the KATAKANI font randomly. In order to introduce more randomness, a Bollean condition is introduced at Line 27 where `frameCount` - an in built variable = 60 is divided by random numbers between 2 and 20 `swithInterval` and only if the remainder is zero then the font is displayed on the canvas.\n",
        "\n",
        "`0x30A0` is the first of the 96 KATAKANI letters/symbols. UTF-8 stands for Unicode Transformation Format. It is a family of standards for encoding the Unicode character set into its equivalent binary value. UTF was developed so that users have a standardized means of encoding the characters with the minimal amount of space."
      ]
    },
    {
      "cell_type": "markdown",
      "metadata": {
        "id": "zz9_VzGruJEz"
      },
      "source": [
        "#### RENDER Method\n",
        "`33 this.render = function()  {`\n",
        "\n",
        "`34            fill(0,255,70);`\n",
        "\n",
        "`35            text(this.value,this.x,this.y);`\n",
        "\n",
        "`36            this.rain() ;`\n",
        "\n",
        "`37            this.setToRandomSymbol();`\n",
        "\n",
        "`38         };`\n",
        "\n",
        "`render( )` is the function which does all the work. `fill(0,255,75)` assigns GREEN colour to the symbols but also adds a slight tinge of BLUE thorugh 70.\n",
        "\n",
        "The inbuilt `text` in P5.js accpets three parameters : first- the sumbol stored in the key word `value`. Second `x` and third `y` are the x and y co-ordinates of the location where the symbol is to be placed on the canvas."
      ]
    },
    {
      "cell_type": "markdown",
      "metadata": {
        "id": "OiupD6otvOX3"
      },
      "source": [
        "#### lastly the RAIN method\n",
        "`40  this.rain = function()  {`\n",
        "\n",
        "`41              if(this.y >= height){`\n",
        "\n",
        "`42                      this.y=0;`\n",
        "\n",
        "`43                    } `\n",
        "\n",
        "`44            else {`\n",
        "\n",
        "`45                 this.y = this.y + this.speed;`\n",
        "\n",
        "`46                   }          `\n",
        "\n",
        "`47          }   `\n",
        "\n",
        "Finally the `rain( ) ` method ensures that y cordinate of the symbol keeps chanign from the very top to the bottom of the canvas. When the symbol reaches the bottom, the y coordinate is re set to zero on LINE 42. If the symbol has not reached the bottom, its y co ordinate is incremented with the randomized speed variable."
      ]
    },
    {
      "cell_type": "code",
      "metadata": {
        "id": "hrH8XG66oXnt"
      },
      "source": [
        ""
      ],
      "execution_count": null,
      "outputs": []
    }
  ]
}
